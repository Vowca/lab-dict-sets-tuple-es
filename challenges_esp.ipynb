{
  "cells": [
    {
      "cell_type": "markdown",
      "metadata": {
        "id": "5Sx5UQEPX2gi"
      },
      "source": [
        "## Desafío 1: Tuplas\n",
        "\n",
        "#### ¿Sabías que puedes crear tuplas con solo un elemento?\n",
        "\n",
        "**En la celda de abajo, define una variable `tup` con un único elemento `\"I\"`.**"
      ]
    },
    {
      "cell_type": "code",
      "execution_count": null,
      "metadata": {
        "colab": {
          "base_uri": "https://localhost:8080/"
        },
        "id": "7_DXipwBX2gj",
        "outputId": "829772eb-6f7d-45be-cd10-a9e2bfad0188"
      },
      "outputs": [
        {
          "output_type": "stream",
          "name": "stdout",
          "text": [
            "('I',)\n"
          ]
        }
      ],
      "source": [
        "# Crear una tupla con un unico elemento \"I\" y imprimir para confirmar\n",
        "\n",
        "tup = (\"I\",)\n",
        "print (tup)\n"
      ]
    },
    {
      "cell_type": "markdown",
      "metadata": {
        "id": "ReZ-5LnZX2gl"
      },
      "source": [
        "#### Imprime el tipo de `tup`.\n",
        "\n",
        "Asegúrate de que su tipo sea correcto (es decir, *tuple* en lugar de *str*)."
      ]
    },
    {
      "cell_type": "code",
      "execution_count": null,
      "metadata": {
        "colab": {
          "base_uri": "https://localhost:8080/"
        },
        "id": "G5g7eNNSX2gl",
        "outputId": "a72d3ec5-74e4-455d-f202-57d9b721e340"
      },
      "outputs": [
        {
          "output_type": "stream",
          "name": "stdout",
          "text": [
            "<class 'tuple'>\n"
          ]
        }
      ],
      "source": [
        "# Imprimir el tipo de datos de la variable \"tup\"\n",
        "print(type(tup))"
      ]
    },
    {
      "cell_type": "markdown",
      "metadata": {
        "id": "M8Qpu49NX2gm"
      },
      "source": [
        "#### Ahora intenta agregar los siguientes elementos a `tup`.\n",
        "\n",
        "¿Puedes hacerlo? Explica.\n",
        "\n",
        "```\n",
        "\"r\", \"o\", \"n\", \"h\", \"a\", \"c\", \"k',\n",
        "```"
      ]
    },
    {
      "cell_type": "code",
      "execution_count": null,
      "metadata": {
        "scrolled": true,
        "colab": {
          "base_uri": "https://localhost:8080/"
        },
        "id": "oPTryCymX2gm",
        "outputId": "4c0262d8-1417-4ce0-dffb-8f2f96b95875"
      },
      "outputs": [
        {
          "output_type": "stream",
          "name": "stdout",
          "text": [
            "['I', 4, 5, 6]\n"
          ]
        }
      ],
      "source": [
        "\n",
        "# Una tupla no se puede modificar (unmutable)\n",
        "\n",
        "\n",
        "# Si tup fuera una lista, si que se puede agregar, porque una lista se puede modificar:\n",
        "\n",
        "tup = [\"I\"]\n",
        "nuevos_elementos = [4, 5, 6]\n",
        "\n",
        "for elemento in nuevos_elementos:\n",
        "    tup.append(elemento)\n",
        "\n",
        "print(tup)\n",
        "\n",
        "# result cuando agregamos a una lista : ['I', 4, 5, 6]\n",
        "\n",
        "\n"
      ]
    },
    {
      "cell_type": "markdown",
      "metadata": {
        "id": "iJhJTOfMX2gm"
      },
      "source": [
        "#### ¿Qué tal si reasignas un nuevo valor a una tupla existente?\n",
        "\n",
        "Reasigna los siguientes elementos a `tup`. ¿Puedes hacerlo? Explica.\n",
        "\n",
        "```\n",
        "\"I\", \"r\", \"o\", \"n\", \"h\", \"a\", \"c\", \"k\"\n",
        "```"
      ]
    },
    {
      "cell_type": "code",
      "execution_count": null,
      "metadata": {
        "colab": {
          "base_uri": "https://localhost:8080/"
        },
        "id": "dZEZDt9yX2gn",
        "outputId": "3140bc76-c708-42c2-93fd-b0922c4e4800"
      },
      "outputs": [
        {
          "output_type": "stream",
          "name": "stdout",
          "text": [
            "('I', 'I', 'r', 'o', 'n', 'h', 'a', 'c', 'k')\n",
            "<class 'tuple'>\n"
          ]
        }
      ],
      "source": [
        "\n",
        "\n",
        "# Como explicado antes, no se puede modificar tup directamente, pero se puede re-definir tup con concatenacion\n",
        "\n",
        "tup = (\"I\",)\n",
        "\n",
        "tup = tup + (\"I\", \"r\", \"o\", \"n\", \"h\", \"a\", \"c\", \"k\",)\n",
        "\n",
        "print(tup)\n",
        "print(type(tup))"
      ]
    },
    {
      "cell_type": "markdown",
      "metadata": {
        "id": "M6bcIZIeX2gn"
      },
      "source": [
        "#### Divide `tup` en `tup1` y `tup2` con 4 elementos en cada una.\n",
        "\n",
        "`tup1` debe ser `(\"I\", \"r\", \"o\", \"n\")` y `tup2` debe ser `(\"h\", \"a\", \"c\", \"k\")`.\n",
        "\n",
        "*Sugerencia: usa números de índice positivos para la asignación de `tup1` y números de índice negativos para la asignación de `tup2`. Los números de índice positivos cuentan desde el principio, mientras que los números de índice negativos cuentan desde el final de la secuencia.*\n",
        "\n",
        "También imprime `tup1` y `tup2`."
      ]
    },
    {
      "cell_type": "code",
      "execution_count": null,
      "metadata": {
        "colab": {
          "base_uri": "https://localhost:8080/"
        },
        "id": "Nas3yRotX2go",
        "outputId": "f59e8f61-df7c-48ea-b5a7-d01df7c7bbb6"
      },
      "outputs": [
        {
          "output_type": "stream",
          "name": "stdout",
          "text": [
            "('I', 'r', 'o', 'n')\n",
            "('h', 'a', 'c', 'k')\n"
          ]
        }
      ],
      "source": [
        "\n",
        "\n",
        "#defino tup otra vez porque el ejercicio anterior decia de añadir la lista empezando por I, asi que habia dos \"I\"\n",
        "\n",
        "tup= ( 'I', 'r', 'o', 'n', 'h', 'a', 'c', 'k',)\n",
        "\n",
        "#para coger los primeros 4 elementos (0 es el primero)\n",
        "tup1 = tup[0:4]\n",
        "\n",
        "#para coger los ultimos 4 elementos, empezando a contar los index desde el fin\n",
        "tup2 = tup[-4:]\n",
        "\n",
        "print(tup1)  # ('I', 'r', 'o', 'n')\n",
        "print(tup2)  # ('h', 'a', 'c', 'k')"
      ]
    },
    {
      "cell_type": "markdown",
      "metadata": {
        "id": "RrfPsVqwX2go"
      },
      "source": [
        "#### Suma `tup1` y `tup2` en `tup3` usando el operador `+`.\n",
        "\n",
        "Luego imprime `tup3` y verifica si `tup3` es igual a `tup`."
      ]
    },
    {
      "cell_type": "code",
      "execution_count": null,
      "metadata": {
        "colab": {
          "base_uri": "https://localhost:8080/"
        },
        "id": "Lt3u_HvgX2go",
        "outputId": "dcc200d4-47c7-473a-c5c9-14a106cc4e2e"
      },
      "outputs": [
        {
          "output_type": "stream",
          "name": "stdout",
          "text": [
            "('I', 'r', 'o', 'n', 'h', 'a', 'c', 'k')\n",
            "('I', 'r', 'o', 'n', 'h', 'a', 'c', 'k')\n"
          ]
        },
        {
          "output_type": "execute_result",
          "data": {
            "text/plain": [
              "True"
            ]
          },
          "metadata": {},
          "execution_count": 50
        }
      ],
      "source": [
        "\n",
        "# si, son iguales\n",
        "\n",
        "#suma tup1 y tup2 en tup3 usando el operador +\n",
        "\n",
        "tup3=tup1+tup2\n",
        "\n",
        "#imprime tup3\n",
        "\n",
        "print(tup3)\n",
        "print(tup)\n",
        "\n",
        "#verifica si tup3 es igual a tup\n",
        "(tup)==(tup3)"
      ]
    },
    {
      "cell_type": "markdown",
      "metadata": {
        "id": "LxXuxnmdX2gp"
      },
      "source": [
        "#### Cuenta el número de elementos en `tup1` y `tup2`. Luego suma los dos conteos y verifica si la suma es igual al número de elementos en `tup3`."
      ]
    },
    {
      "cell_type": "code",
      "execution_count": null,
      "metadata": {
        "colab": {
          "base_uri": "https://localhost:8080/"
        },
        "id": "ZoWe9yTyX2gp",
        "outputId": "b16f0697-aca3-4468-a400-5cabca6cc5fb"
      },
      "outputs": [
        {
          "output_type": "stream",
          "name": "stdout",
          "text": [
            "4\n",
            "4\n",
            "8\n"
          ]
        },
        {
          "output_type": "execute_result",
          "data": {
            "text/plain": [
              "True"
            ]
          },
          "metadata": {},
          "execution_count": 51
        }
      ],
      "source": [
        "#numero de elementos en tup1 / 4\n",
        "\n",
        "print(len(tup1))\n",
        "\n",
        "#numero de elementos en tup2 / 4\n",
        "\n",
        "print(len(tup2))\n",
        "\n",
        "#numero de elementos en tup3 / 8\n",
        "print(len(tup3))\n",
        "\n",
        "# verificar si tup1 + tup2 = tup3 / True\n",
        "\n",
        "(len(tup1))+(len(tup2))==(len(tup3))\n"
      ]
    },
    {
      "cell_type": "markdown",
      "metadata": {
        "id": "tijzAeabX2gp"
      },
      "source": [
        "#### ¿Cuál es el número de índice de `\"h\"` en `tup3`?"
      ]
    },
    {
      "cell_type": "code",
      "execution_count": null,
      "metadata": {
        "colab": {
          "base_uri": "https://localhost:8080/"
        },
        "id": "ksP_7DulX2gp",
        "outputId": "6cf9c1e5-9210-45d5-81ca-aef762ab307f"
      },
      "outputs": [
        {
          "output_type": "stream",
          "name": "stdout",
          "text": [
            "4\n"
          ]
        }
      ],
      "source": [
        "# para saber el índice de \"h\"\n",
        "indice_h = tup3.index(\"h\")\n",
        "\n",
        "# Imprimir el índice de \"h\" / 4\n",
        "print(indice_h)"
      ]
    },
    {
      "cell_type": "markdown",
      "metadata": {
        "id": "6Ed2x8eZX2gp"
      },
      "source": [
        "#### Ahora, usa un bucle FOR para verificar si cada letra en la siguiente lista está presente en `tup3`:\n",
        "\n",
        "\n",
        "```\n",
        "letters = [\"a\", \"b\", \"c\", \"d\", \"e\"]\n",
        "```\n",
        "\n",
        "\n",
        "Para cada letra que verifiques, imprime `True` si está presente en `tup3`, de lo contrario imprime `False`.\n",
        "\n",
        "*Sugerencia: solo necesitas hacer un bucle con `letters`. No necesitas hacer un bucle con `tup3` porque hay un operador de Python `in` que puedes usar. Consulta la [referencia](https://stackoverflow.com/questions/17920147/how-to-check-if-a-tuple-contains-an-element-in-python).*"
      ]
    },
    {
      "cell_type": "code",
      "execution_count": 2,
      "metadata": {
        "colab": {
          "base_uri": "https://localhost:8080/"
        },
        "id": "NrXVbvLkX2gp",
        "outputId": "cdeb503c-08ab-4d9b-cd3e-6cb8418d9461"
      },
      "outputs": [
        {
          "output_type": "stream",
          "name": "stdout",
          "text": [
            "La letra a está en tup3\n",
            "La letra b no está en tup3\n",
            "La letra c está en tup3\n",
            "La letra d no está en tup3\n",
            "La letra e no está en tup3\n"
          ]
        }
      ],
      "source": [
        "\n",
        "tup3 = ('I', 'r', 'o', 'n', 'h', 'a', 'c', 'k')\n",
        "letters = [\"a\", \"b\", \"c\", \"d\", \"e\"]\n",
        "\n",
        "for i in letters:\n",
        "    if i in tup3:\n",
        "        print(f\"La letra {i} está en tup3\")\n",
        "    else:\n",
        "        print(f\"La letra {i} no está en tup3\")"
      ]
    },
    {
      "cell_type": "code",
      "execution_count": null,
      "metadata": {
        "id": "3aZx-70rX2gq"
      },
      "outputs": [],
      "source": [
        "# Tu codígo aquí"
      ]
    },
    {
      "cell_type": "markdown",
      "metadata": {
        "id": "EuxbI0agX2gq"
      },
      "source": [
        "#### ¿Cuántas veces aparece cada letra de `letters` en `tup3`?\n",
        "\n",
        "Imprime el número de ocurrencias de cada letra."
      ]
    },
    {
      "cell_type": "code",
      "execution_count": 3,
      "metadata": {
        "id": "4VdeddJwX2gq",
        "colab": {
          "base_uri": "https://localhost:8080/"
        },
        "outputId": "24e238c0-b2d9-497f-dfb0-a1889bc39ab5"
      },
      "outputs": [
        {
          "output_type": "stream",
          "name": "stdout",
          "text": [
            "'a' aparece 1 vez/veces en tup3.\n",
            "'b' aparece 0 vez/veces en tup3.\n",
            "'c' aparece 1 vez/veces en tup3.\n",
            "'d' aparece 0 vez/veces en tup3.\n",
            "'e' aparece 0 vez/veces en tup3.\n"
          ]
        }
      ],
      "source": [
        "for letra in letters:\n",
        "    print(f\"'{letra}' aparece {tup3.count(letra)} vez/veces en tup3.\")"
      ]
    },
    {
      "cell_type": "markdown",
      "metadata": {
        "id": "Uv3KUfKaX2gq"
      },
      "source": [
        "## Desafío 2: Conjuntos\n",
        "\n",
        "Hay mucho que aprender sobre los Conjuntos en Python y la información presentada en la lección es limitada debido a su longitud. Para aprender a fondo sobre los Conjuntos en Python, te recomendamos encarecidamente que revises el tutorial de W3Schools sobre [Ejemplos y Métodos de Conjuntos en Python](https://www.w3schools.com/python/python_sets.asp) antes de trabajar en este laboratorio. Algunas preguntas difíciles de este laboratorio tienen sus soluciones en el tutorial de W3Schools.\n",
        "\n",
        "#### Primero, importa la biblioteca `random` de Python."
      ]
    },
    {
      "cell_type": "code",
      "execution_count": 56,
      "metadata": {
        "id": "z5koTXS6X2gq"
      },
      "outputs": [],
      "source": [
        "import random"
      ]
    },
    {
      "cell_type": "markdown",
      "metadata": {
        "id": "IcsVEsAZX2gq"
      },
      "source": [
        "#### En la celda de abajo, crea una lista llamada `sample_list_1` con 80 valores aleatorios.\n",
        "\n",
        "Requisitos:\n",
        "\n",
        "* Cada valor es un entero entre 0 y 100.\n",
        "* Cada valor en la lista es único.\n",
        "\n",
        "Imprime `sample_list_1` para revisar sus valores.\n",
        "\n",
        "*Sugerencia: usa `random.sample` ([referencia](https://docs.python.org/3/library/random.html#random.sample)).*"
      ]
    },
    {
      "cell_type": "code",
      "execution_count": 58,
      "metadata": {
        "id": "s7V2j-ATX2gq",
        "colab": {
          "base_uri": "https://localhost:8080/"
        },
        "outputId": "03adeaab-3768-40d4-b005-252bf33ef8f4"
      },
      "outputs": [
        {
          "output_type": "stream",
          "name": "stdout",
          "text": [
            "[74, 75, 79, 13, 67, 9, 77, 24, 51, 41, 19, 95, 72, 7, 97, 43, 65, 57, 62, 1, 69, 89, 30, 78, 90, 12, 23, 81, 55, 34, 93, 4, 21, 86, 10, 0, 56, 64, 42, 14, 40, 68, 80, 52, 6, 66, 84, 94, 11, 70, 59, 2, 37, 82, 60, 49, 32, 36, 5, 87, 26, 50, 54, 29, 20, 8, 76, 100, 25, 83, 15, 98, 31, 44, 39, 63, 47, 88, 71, 45]\n",
            "80\n"
          ]
        }
      ],
      "source": [
        "import random\n",
        "\n",
        "# Crear sample_list_1 con 80 valores unicas entre 0 and 100\n",
        "sample_list_1 = random.sample(range(101), 80)\n",
        "print(sample_list_1)\n",
        "print(len(sample_list_1))\n"
      ]
    },
    {
      "cell_type": "markdown",
      "metadata": {
        "id": "aKZyxizzX2gq"
      },
      "source": [
        "#### Convierte `sample_list_1` en un conjunto llamado `set1`. Imprime la longitud del conjunto. ¿Su longitud sigue siendo 80?"
      ]
    },
    {
      "cell_type": "code",
      "execution_count": 59,
      "metadata": {
        "id": "-OLulkAVX2gr",
        "colab": {
          "base_uri": "https://localhost:8080/"
        },
        "outputId": "d6ef0a72-717e-4de4-cf6c-511433cf3e9f"
      },
      "outputs": [
        {
          "output_type": "stream",
          "name": "stdout",
          "text": [
            "<class 'set'>\n"
          ]
        }
      ],
      "source": [
        "#Transformar la lista en conjunto (set)\n",
        "\n",
        "set1 = set(sample_list_1)\n",
        "\n",
        "#Averiguar el tipo de datos de set1\n",
        "print(type(set1))"
      ]
    },
    {
      "cell_type": "markdown",
      "metadata": {
        "id": "NxChCmWRX2gr"
      },
      "source": [
        "#### Crea otra lista llamada `sample_list_2` con 80 valores aleatorios.\n",
        "\n",
        "Requisitos:\n",
        "\n",
        "* Cada valor es un entero entre 0 y 100.\n",
        "* Los valores en la lista no tienen que ser únicos.\n",
        "\n",
        "*Sugerencia: Usa un bucle FOR.*"
      ]
    },
    {
      "cell_type": "code",
      "execution_count": 61,
      "metadata": {
        "id": "czfeSfUMX2gr",
        "colab": {
          "base_uri": "https://localhost:8080/"
        },
        "outputId": "8096c8a3-d0cf-460b-ecf9-3f332219e70f"
      },
      "outputs": [
        {
          "output_type": "stream",
          "name": "stdout",
          "text": [
            "[74, 7, 15, 38, 66, 87, 59, 91, 28, 16, 98, 10, 97, 43, 57, 26, 29, 42, 94, 43, 77, 25, 77, 78, 13, 0, 97, 86, 45, 35, 58, 64, 32, 42, 16, 1, 63, 83, 98, 97, 5, 38, 18, 54, 45, 38, 2, 73, 41, 41, 46, 22, 17, 56, 46, 45, 22, 43, 90, 5, 77, 48, 82, 0, 49, 61, 49, 29, 26, 34, 76, 55, 87, 94, 11, 28, 0, 91, 93, 16]\n",
            "80\n"
          ]
        }
      ],
      "source": [
        "import random\n",
        "\n",
        "# Crear sample_list_2 con 80 valores no unicos entre 0 and 100\n",
        "sample_list_2 = []\n",
        "for _ in range(80):\n",
        "    sample_list_2.append(random.randint(0, 100))\n",
        "\n",
        "print(sample_list_2)\n",
        "print(len(sample_list_2))"
      ]
    },
    {
      "cell_type": "markdown",
      "metadata": {
        "id": "PPNFp40ZX2gr"
      },
      "source": [
        "#### Convierte `sample_list_2` en un conjunto llamado `set2`. Imprime la longitud del conjunto. ¿Su longitud sigue siendo 80?"
      ]
    },
    {
      "cell_type": "code",
      "execution_count": 62,
      "metadata": {
        "id": "rAwDGtDqX2gs",
        "colab": {
          "base_uri": "https://localhost:8080/"
        },
        "outputId": "018550ff-e003-46b4-a60d-cce933b00814"
      },
      "outputs": [
        {
          "output_type": "stream",
          "name": "stdout",
          "text": [
            "53\n"
          ]
        }
      ],
      "source": [
        "#Convierte sample_list_2 en set\n",
        "set2= set(sample_list_2)\n",
        "\n",
        "#Imprime la longitud del conjunto. No, la longitud es 53.\n",
        "print(len(set2))"
      ]
    },
    {
      "cell_type": "markdown",
      "metadata": {
        "id": "WBazPT57X2gt"
      },
      "source": [
        "#### Identifica los elementos presentes en `set1` pero no en `set2`. Asigna los elementos a un nuevo conjunto llamado `set3`."
      ]
    },
    {
      "cell_type": "code",
      "execution_count": 64,
      "metadata": {
        "id": "bA0bzIk3X2gt",
        "colab": {
          "base_uri": "https://localhost:8080/"
        },
        "outputId": "18aa7a83-84c3-4629-824a-43cfc6832fb3"
      },
      "outputs": [
        {
          "output_type": "stream",
          "name": "stdout",
          "text": [
            "{4, 6, 8, 9, 12, 14, 19, 20, 21, 23, 24, 30, 31, 36, 37, 39, 40, 44, 47, 50, 51, 52, 60, 62, 65, 67, 68, 69, 70, 71, 72, 75, 79, 80, 81, 84, 88, 89, 95, 100}\n",
            "40\n"
          ]
        }
      ],
      "source": [
        "#Crear un conjunto set3 con los elementos presentes en set1 pero no en set2.\n",
        "set3=set1-set2\n",
        "\n",
        "#Imprimir set3\n",
        "print(set3)\n",
        "print(len(set3))\n"
      ]
    },
    {
      "cell_type": "markdown",
      "metadata": {
        "id": "dO2dENVqX2gt"
      },
      "source": [
        "#### Identifica los elementos presentes en `set2` pero no en `set1`. Asigna los elementos a un nuevo conjunto llamado `set4`."
      ]
    },
    {
      "cell_type": "code",
      "execution_count": 66,
      "metadata": {
        "id": "jWui5785X2gt",
        "colab": {
          "base_uri": "https://localhost:8080/"
        },
        "outputId": "957bba1d-d56d-4bf6-8be8-4f4e305a05a3"
      },
      "outputs": [
        {
          "output_type": "stream",
          "name": "stdout",
          "text": [
            "{35, 38, 73, 46, 16, 17, 18, 48, 22, 58, 91, 28, 61}\n",
            "13\n"
          ]
        }
      ],
      "source": [
        "#Crear un conjunto set4 con los elementos presentes en set2 pero no en set1.\n",
        "set4=set2-set1\n",
        "\n",
        "#Imprimir set4\n",
        "print(set4)\n",
        "print(len(set4))\n"
      ]
    },
    {
      "cell_type": "markdown",
      "metadata": {
        "id": "aYwsBJlNX2gt"
      },
      "source": [
        "#### Ahora identifica los elementos compartidos entre `set1` y `set2`. Asigna los elementos a un nuevo conjunto llamado `set5`."
      ]
    },
    {
      "cell_type": "code",
      "execution_count": 68,
      "metadata": {
        "id": "Q8JQzbryX2gu",
        "colab": {
          "base_uri": "https://localhost:8080/"
        },
        "outputId": "4a450ffa-4523-42f1-9742-349954404ebf"
      },
      "outputs": [
        {
          "output_type": "stream",
          "name": "stdout",
          "text": [
            "{0, 1, 2, 5, 7, 10, 11, 13, 15, 25, 26, 29, 32, 34, 41, 42, 43, 45, 49, 54, 55, 56, 57, 59, 63, 64, 66, 74, 76, 77, 78, 82, 83, 86, 87, 90, 93, 94, 97, 98}\n",
            "40\n"
          ]
        }
      ],
      "source": [
        "#Crear un conjunto set5 con los elementos presentes en set2 y en set1.\n",
        "set5=set1.intersection(set2)\n",
        "\n",
        "#Imprimir set5\n",
        "print(set5)\n",
        "print(len(set5))"
      ]
    },
    {
      "cell_type": "markdown",
      "metadata": {
        "id": "Nth9lc4jX2gu"
      },
      "source": [
        "#### ¿Cuál es la relación entre los siguientes valores?\n",
        "\n",
        "* len(set1)\n",
        "* len(set2)\n",
        "* len(set3)\n",
        "* len(set4)\n",
        "* len(set5)\n",
        "\n",
        "Usa una fórmula matemática para representar esa relación. Prueba tu fórmula con código Python."
      ]
    },
    {
      "cell_type": "code",
      "execution_count": 70,
      "metadata": {
        "id": "aWB82C6cX2gu",
        "colab": {
          "base_uri": "https://localhost:8080/"
        },
        "outputId": "eb63f039-eddc-42f1-99e8-ba4f96075103"
      },
      "outputs": [
        {
          "output_type": "stream",
          "name": "stdout",
          "text": [
            "80\n",
            "53\n",
            "40\n",
            "13\n",
            "40\n"
          ]
        },
        {
          "output_type": "execute_result",
          "data": {
            "text/plain": [
              "True"
            ]
          },
          "metadata": {},
          "execution_count": 70
        }
      ],
      "source": [
        "#Imprimir numero de elementos de cada set\n",
        "print(len(set1))\n",
        "print(len(set2))\n",
        "print(len(set3))\n",
        "print(len(set4))\n",
        "print(len(set5))\n",
        "\n",
        "#Confirmar si la formula est Corrrecta (True)\n",
        "len(set3) + len(set5) == len(set1)"
      ]
    },
    {
      "cell_type": "markdown",
      "metadata": {
        "id": "BxX6azKfX2g0"
      },
      "source": [
        "#### Crea un conjunto vacío llamado `set6`."
      ]
    },
    {
      "cell_type": "code",
      "execution_count": 71,
      "metadata": {
        "id": "7BtqWzFJX2g0",
        "colab": {
          "base_uri": "https://localhost:8080/"
        },
        "outputId": "e07d4dc4-89fc-449c-b965-b13ab8091498"
      },
      "outputs": [
        {
          "output_type": "stream",
          "name": "stdout",
          "text": [
            "<class 'set'>\n"
          ]
        }
      ],
      "source": [
        "# Crea un conjunto vacío llamado set6.\n",
        "\n",
        "set6=set()\n",
        "\n",
        "print(type(set6))"
      ]
    },
    {
      "cell_type": "markdown",
      "metadata": {
        "id": "rLg-QZ5aX2g0"
      },
      "source": [
        "#### Añade `set3` y `set5` a `set6` usando el método `update` de los Conjuntos de Python."
      ]
    },
    {
      "cell_type": "code",
      "execution_count": 72,
      "metadata": {
        "id": "lpaIeaFfX2g1",
        "colab": {
          "base_uri": "https://localhost:8080/"
        },
        "outputId": "391af189-0ef4-41db-fb9e-ae9974c535cd"
      },
      "outputs": [
        {
          "output_type": "stream",
          "name": "stdout",
          "text": [
            "80\n"
          ]
        }
      ],
      "source": [
        "#Añade set3 y set5 a set6 usando el método update\n",
        "set6.update(set3)\n",
        "set6.update(set5)\n",
        "\n",
        "print(len(set6))"
      ]
    },
    {
      "cell_type": "markdown",
      "metadata": {
        "id": "djEVjZNWX2g1"
      },
      "source": [
        "#### Verifica si `set1` y `set6` son iguales."
      ]
    },
    {
      "cell_type": "code",
      "execution_count": 73,
      "metadata": {
        "id": "epGnTqmiX2g1",
        "colab": {
          "base_uri": "https://localhost:8080/"
        },
        "outputId": "6776fd08-885d-40c1-f17e-1ddf43112285"
      },
      "outputs": [
        {
          "output_type": "execute_result",
          "data": {
            "text/plain": [
              "True"
            ]
          },
          "metadata": {},
          "execution_count": 73
        }
      ],
      "source": [
        "#Verifica si set1 y set6 son iguales.\n",
        "\n",
        "(set1)==(set6)"
      ]
    },
    {
      "cell_type": "markdown",
      "metadata": {
        "id": "VPVDyBQDX2g1"
      },
      "source": [
        "#### Comprueba si `set1` contiene a `set2` utilizando el método `issubset` de los Conjuntos de Python. Luego verifica si `set1` contiene a `set3`."
      ]
    },
    {
      "cell_type": "code",
      "execution_count": 77,
      "metadata": {
        "id": "phg1D69hX2g1",
        "colab": {
          "base_uri": "https://localhost:8080/"
        },
        "outputId": "b70f8f10-afae-40e7-ee64-73d63ed1a535"
      },
      "outputs": [
        {
          "output_type": "stream",
          "name": "stdout",
          "text": [
            "False\n",
            "False\n"
          ]
        }
      ],
      "source": [
        "#Comprueba si set1 contiene a set2 utilizando el método issubset / False\n",
        "set2_is_subset1 = set2.issubset(set1)\n",
        "print(set2_is_subset1)\n",
        "\n",
        "#Comprueba si set1 contiene a set3 utilizando el método issubset / False\n",
        "set1_is_subset3 =set1.issubset(set3)\n",
        "print(set1_is_subset3)\n",
        "\n"
      ]
    },
    {
      "cell_type": "markdown",
      "metadata": {
        "id": "Nq7XGoAhX2g2"
      },
      "source": [
        "#### Utilizando el método `union` de los Conjuntos de Python, agrega `set3`, `set4` y `set5`. Luego agrega `set1` y `set2`.\n",
        "\n",
        "#### Verifica si los valores agregados son iguales."
      ]
    },
    {
      "cell_type": "code",
      "execution_count": 78,
      "metadata": {
        "id": "3X2VEYviX2g2",
        "colab": {
          "base_uri": "https://localhost:8080/"
        },
        "outputId": "acbe55d5-7dab-4929-fa06-fb0462329ccb"
      },
      "outputs": [
        {
          "output_type": "stream",
          "name": "stdout",
          "text": [
            "93\n",
            "93\n"
          ]
        },
        {
          "output_type": "execute_result",
          "data": {
            "text/plain": [
              "True"
            ]
          },
          "metadata": {},
          "execution_count": 78
        }
      ],
      "source": [
        "#Utilizando el método union de los Conjuntos de Python, agrega set3, set4 y set5\n",
        "\n",
        "union_set_345 = set3.union(set4, set5)\n",
        "\n",
        "print(len(union_set_345))\n",
        "\n",
        "#Luego agrega set1 y set2\n",
        "\n",
        "union_set_12345=union_set_345.union(set1, set2)\n",
        "\n",
        "print(len(union_set_12345))\n",
        "\n",
        "#Comprobar si estan iguales / Si, True\n",
        "\n",
        "union_set_345 == union_set_12345"
      ]
    },
    {
      "cell_type": "markdown",
      "metadata": {
        "id": "1gDTKL3hX2g2"
      },
      "source": [
        "#### Utilizando el método `pop`, elimina el primer elemento de `set1`."
      ]
    },
    {
      "cell_type": "code",
      "execution_count": 79,
      "metadata": {
        "id": "SOdRaRipX2g2",
        "colab": {
          "base_uri": "https://localhost:8080/"
        },
        "outputId": "3a8550c7-f753-4de4-8048-497e9e2420bd"
      },
      "outputs": [
        {
          "output_type": "stream",
          "name": "stdout",
          "text": [
            "80\n",
            "0\n",
            "79\n"
          ]
        }
      ],
      "source": [
        "#imprimir valor set1 antes de pop\n",
        "valor_antes= print(len(set1))\n",
        "\n",
        "#quitar elemento\n",
        "removed_element = set1.pop()\n",
        "\n",
        "#imprimir elemento quitado\n",
        "print(removed_element)\n",
        "\n",
        "#imprimir valor depsues de pop\n",
        "valor_despues= print(len(set1))\n"
      ]
    },
    {
      "cell_type": "markdown",
      "metadata": {
        "id": "g9P7eRaqX2g3"
      },
      "source": [
        "#### Elimina cada elemento en la siguiente lista de `set1` si están presentes en el conjunto. Imprime los elementos restantes.\n",
        "\n",
        "```\n",
        "list_to_remove = [1, 9, 11, 19, 21, 29, 31, 39, 41, 49, 51, 59, 61, 69, 71, 79, 81, 89, 91, 99]\n",
        "```"
      ]
    },
    {
      "cell_type": "code",
      "execution_count": 83,
      "metadata": {
        "id": "PhPG_ccUX2g3",
        "colab": {
          "base_uri": "https://localhost:8080/"
        },
        "outputId": "528c0020-457a-4e10-bc51-48ed8f76645f"
      },
      "outputs": [
        {
          "output_type": "stream",
          "name": "stdout",
          "text": [
            "2 is not in set1.\n",
            "4 is not in set1.\n",
            "5 is not in set1.\n",
            "6 is not in set1.\n",
            "7 is not in set1.\n",
            "8 is not in set1.\n",
            "10 is not in set1.\n",
            "Removed 11 from set1.\n",
            "12 is not in set1.\n",
            "13 is not in set1.\n",
            "14 is not in set1.\n",
            "15 is not in set1.\n",
            "Removed 19 from set1.\n",
            "20 is not in set1.\n",
            "Removed 21 from set1.\n",
            "23 is not in set1.\n",
            "24 is not in set1.\n",
            "25 is not in set1.\n",
            "26 is not in set1.\n",
            "Removed 29 from set1.\n",
            "30 is not in set1.\n",
            "Removed 31 from set1.\n",
            "32 is not in set1.\n",
            "34 is not in set1.\n",
            "36 is not in set1.\n",
            "37 is not in set1.\n",
            "Removed 39 from set1.\n",
            "40 is not in set1.\n",
            "Removed 41 from set1.\n",
            "42 is not in set1.\n",
            "43 is not in set1.\n",
            "44 is not in set1.\n",
            "45 is not in set1.\n",
            "47 is not in set1.\n",
            "Removed 49 from set1.\n",
            "50 is not in set1.\n",
            "Removed 51 from set1.\n",
            "52 is not in set1.\n",
            "54 is not in set1.\n",
            "55 is not in set1.\n",
            "56 is not in set1.\n",
            "57 is not in set1.\n",
            "Removed 59 from set1.\n",
            "60 is not in set1.\n",
            "62 is not in set1.\n",
            "63 is not in set1.\n",
            "64 is not in set1.\n",
            "65 is not in set1.\n",
            "66 is not in set1.\n",
            "67 is not in set1.\n",
            "68 is not in set1.\n",
            "Removed 69 from set1.\n",
            "70 is not in set1.\n",
            "Removed 71 from set1.\n",
            "72 is not in set1.\n",
            "74 is not in set1.\n",
            "75 is not in set1.\n",
            "76 is not in set1.\n",
            "77 is not in set1.\n",
            "78 is not in set1.\n",
            "Removed 79 from set1.\n",
            "80 is not in set1.\n",
            "Removed 81 from set1.\n",
            "82 is not in set1.\n",
            "83 is not in set1.\n",
            "84 is not in set1.\n",
            "86 is not in set1.\n",
            "87 is not in set1.\n",
            "88 is not in set1.\n",
            "Removed 89 from set1.\n",
            "90 is not in set1.\n",
            "93 is not in set1.\n",
            "94 is not in set1.\n",
            "95 is not in set1.\n",
            "97 is not in set1.\n",
            "98 is not in set1.\n",
            "100 is not in set1.\n",
            "{2, 4, 5, 6, 7, 8, 10, 12, 13, 14, 15, 20, 23, 24, 25, 26, 30, 32, 34, 36, 37, 40, 42, 43, 44, 45, 47, 50, 52, 54, 55, 56, 57, 60, 62, 63, 64, 65, 66, 67, 68, 70, 72, 74, 75, 76, 77, 78, 80, 82, 83, 84, 86, 87, 88, 90, 93, 94, 95, 97, 98, 100}\n"
          ]
        }
      ],
      "source": [
        "list_to_remove = [1, 9, 11, 19, 21, 29, 31, 39, 41, 49, 51, 59, 61, 69, 71, 79, 81, 89, 91, 99]\n",
        "copy_set1 = set1.copy()\n",
        "\n",
        "\n",
        "#Averigua cada item de la lista, si esta presente tambien en set1\n",
        "\n",
        "for item in copy_set1:\n",
        "    if item in list_to_remove:\n",
        "        set1.remove(item)\n",
        "\n",
        "        #Si el item esta en set1, Imprimir \"removed (numero) from set1\"\n",
        "        print(f\"Removed {item} from set1.\")\n",
        "\n",
        "        #Si el item no esta en set1, Imprimir \"(numero) is not in set1\"\n",
        "    else:\n",
        "        print(f\"{item} is not in set1.\")\n",
        "\n",
        "print(set1)\n",
        "\n"
      ]
    },
    {
      "cell_type": "markdown",
      "metadata": {
        "id": "OOjWOE-vX2g3"
      },
      "source": [
        "## BONUS - Desafío 3: Diccionarios\n",
        "\n",
        "En este desafío practicarás cómo manipular diccionarios en Python. Antes de empezar este desafío, te animamos a revisar los [Ejemplos y Métodos de Diccionarios en Python](https://www.w3schools.com/python/python_dictionaries.asp) de W3School.\n",
        "\n",
        "Lo primero que practicarás es cómo ordenar las claves en un diccionario. A diferencia del objeto de lista, el diccionario de Python no tiene un método *sort* incorporado. Necesitarás usar bucles FOR para ordenar los diccionarios ya sea por clave o por valor.\n",
        "\n",
        "El diccionario a continuación es un resumen de la frecuencia de palabras de la canción *Shape of You* de Ed Sheeran. Cada clave es una palabra en la letra y el valor es el número de veces que esa palabra aparece en la letra."
      ]
    },
    {
      "cell_type": "code",
      "execution_count": 84,
      "metadata": {
        "id": "kWQtMJHoX2g3"
      },
      "outputs": [],
      "source": [
        "word_freq = {'love': 25, 'conversation': 1, 'every': 6, \"we're\": 1, 'plate': 1, 'sour': 1, 'jukebox': 1, 'now': 11, 'taxi': 1, 'fast': 1, 'bag': 1, 'man': 1, 'push': 3, 'baby': 14, 'going': 1, 'you': 16, \"don't\": 2, 'one': 1, 'mind': 2, 'backseat': 1, 'friends': 1, 'then': 3, 'know': 2, 'take': 1, 'play': 1, 'okay': 1, 'so': 2, 'begin': 1, 'start': 2, 'over': 1, 'body': 17, 'boy': 2, 'just': 1, 'we': 7, 'are': 1, 'girl': 2, 'tell': 1, 'singing': 2, 'drinking': 1, 'put': 3, 'our': 1, 'where': 1, \"i'll\": 1, 'all': 1, \"isn't\": 1, 'make': 1, 'lover': 1, 'get': 1, 'radio': 1, 'give': 1, \"i'm\": 23, 'like': 10, 'can': 1, 'doing': 2, 'with': 22, 'club': 1, 'come': 37, 'it': 1, 'somebody': 2, 'handmade': 2, 'out': 1, 'new': 6, 'room': 3, 'chance': 1, 'follow': 6, 'in': 27, 'may': 2, 'brand': 6, 'that': 2, 'magnet': 3, 'up': 3, 'first': 1, 'and': 23, 'pull': 3, 'of': 6, 'table': 1, 'much': 2, 'last': 3, 'i': 6, 'thrifty': 1, 'grab': 2, 'was': 2, 'driver': 1, 'slow': 1, 'dance': 1, 'the': 18, 'say': 2, 'trust': 1, 'family': 1, 'week': 1, 'date': 1, 'me': 10, 'do': 3, 'waist': 2, 'smell': 3, 'day': 6, 'although': 3, 'your': 21, 'leave': 1, 'want': 2, \"let's\": 2, 'lead': 6, 'at': 1, 'hand': 1, 'how': 1, 'talk': 4, 'not': 2, 'eat': 1, 'falling': 3, 'about': 1, 'story': 1, 'sweet': 1, 'best': 1, 'crazy': 2, 'let': 1, 'too': 5, 'van': 1, 'shots': 1, 'go': 2, 'to': 2, 'a': 8, 'my': 33, 'is': 5, 'place': 1, 'find': 1, 'shape': 6, 'on': 40, 'kiss': 1, 'were': 3, 'night': 3, 'heart': 3, 'for': 3, 'discovering': 6, 'something': 6, 'be': 16, 'bedsheets': 3, 'fill': 2, 'hours': 2, 'stop': 1, 'bar': 1}"
      ]
    },
    {
      "cell_type": "markdown",
      "metadata": {
        "id": "kk6nawsBX2g3"
      },
      "source": [
        "#### Ordena las claves de `word_freq` de forma ascendente.\n",
        "\n",
        "Por favor, crea un nuevo diccionario llamado `word_freq2` basado en `word_freq` con las claves ordenadas de forma ascendente.\n",
        "\n",
        "Hay varias formas de lograr ese objetivo, pero muchas de ellas van más allá de lo que hemos cubierto hasta ahora en el curso. Hay una forma que describiremos empleando lo que has aprendido. Por favor, siéntete libre de usar esta forma o cualquier otra que desees.\n",
        "\n",
        "1. Primero extrae las claves de `word_freq` y conviértelas en una lista llamada `keys`.\n",
        "\n",
        "1. Ordena la lista `keys`.\n",
        "\n",
        "1. Crea un diccionario vacío `word_freq2`.\n",
        "\n",
        "1. Usa un bucle FOR para iterar cada valor en `keys`. Para cada clave iterada, encuentra el valor correspondiente en `word_freq` e inserta el par clave-valor en `word_freq2`.\n",
        "\n",
        "📖 [Documentación para un bucle for](https://docs.python.org/3/reference/compound_stmts.html#for)\n",
        "\n",
        "Imprime `word_freq2` para examinar sus claves y valores. Tu salida debería ser:\n",
        "\n",
        "```python\n",
        "{'a': 8, 'about': 1, 'all': 1, 'although': 3, 'and': 23, 'are': 1, 'at': 1, 'baby': 14, 'backseat': 1, 'bag': 1, 'bar': 1, 'be': 16, 'bedsheets': 3, 'begin': 1, 'best': 1, 'body': 17, 'boy': 2, 'brand': 6, 'can': 1, 'chance': 1, 'club': 1, 'come': 37, 'conversation': 1, 'crazy': 2, 'dance': 1, 'date': 1, 'day': 6, 'discovering': 6, 'do': 3, 'doing': 2, \"don't\": 2, 'drinking': 1, 'driver': 1, 'eat': 1, 'every': 6, 'falling': 3, 'family': 1, 'fast': 1, 'fill': 2, 'find': 1, 'first': 1, 'follow': 6, 'for': 3, 'friends': 1, 'get': 1, 'girl': 2, 'give': 1, 'go': 2, 'going': 1, 'grab': 2, 'hand': 1, 'handmade': 2, 'heart': 3, 'hours': 2, 'how': 1, 'i': 6, \"i'll\": 1, \"i'm\": 23, 'in': 27, 'is': 5, \"isn't\": 1, 'it': 1, 'jukebox': 1, 'just': 1, 'kiss': 1, 'know': 2, 'last': 3, 'lead': 6, 'leave': 1, 'let': 1, \"let's\": 2, 'like': 10, 'love': 25, 'lover': 1, 'magnet': 3, 'make': 1, 'man': 1, 'may': 2, 'me': 10, 'mind': 2, 'much': 2, 'my': 33, 'new': 6, 'night': 3, 'not': 2, 'now': 11, 'of': 6, 'okay': 1, 'on': 40, 'one': 1, 'our': 1, 'out': 1, 'over': 1, 'place': 1, 'plate': 1, 'play': 1, 'pull': 3, 'push': 3, 'put': 3, 'radio': 1, 'room': 3, 'say': 2, 'shape': 6, 'shots': 1, 'singing': 2, 'slow': 1, 'smell': 3, 'so': 2, 'somebody': 2, 'something': 6, 'sour': 1, 'start': 2, 'stop': 1, 'story': 1, 'sweet': 1, 'table': 1, 'take': 1, 'talk': 4, 'taxi': 1, 'tell': 1, 'that': 2, 'the': 18, 'then': 3, 'thrifty': 1, 'to': 2, 'too': 5, 'trust': 1, 'up': 3, 'van': 1, 'waist': 2, 'want': 2, 'was': 2, 'we': 7, \"we're\": 1, 'week': 1, 'were': 3, 'where': 1, 'with': 22, 'you': 16, 'your': 21}\n",
        "```"
      ]
    },
    {
      "cell_type": "code",
      "execution_count": 90,
      "metadata": {
        "id": "EQSuinbHX2g4",
        "colab": {
          "base_uri": "https://localhost:8080/"
        },
        "outputId": "d1d2af28-517d-41cf-c4f5-a92d279e3c5a"
      },
      "outputs": [
        {
          "output_type": "stream",
          "name": "stdout",
          "text": [
            "dict_keys(['love', 'conversation', 'every', \"we're\", 'plate', 'sour', 'jukebox', 'now', 'taxi', 'fast', 'bag', 'man', 'push', 'baby', 'going', 'you', \"don't\", 'one', 'mind', 'backseat', 'friends', 'then', 'know', 'take', 'play', 'okay', 'so', 'begin', 'start', 'over', 'body', 'boy', 'just', 'we', 'are', 'girl', 'tell', 'singing', 'drinking', 'put', 'our', 'where', \"i'll\", 'all', \"isn't\", 'make', 'lover', 'get', 'radio', 'give', \"i'm\", 'like', 'can', 'doing', 'with', 'club', 'come', 'it', 'somebody', 'handmade', 'out', 'new', 'room', 'chance', 'follow', 'in', 'may', 'brand', 'that', 'magnet', 'up', 'first', 'and', 'pull', 'of', 'table', 'much', 'last', 'i', 'thrifty', 'grab', 'was', 'driver', 'slow', 'dance', 'the', 'say', 'trust', 'family', 'week', 'date', 'me', 'do', 'waist', 'smell', 'day', 'although', 'your', 'leave', 'want', \"let's\", 'lead', 'at', 'hand', 'how', 'talk', 'not', 'eat', 'falling', 'about', 'story', 'sweet', 'best', 'crazy', 'let', 'too', 'van', 'shots', 'go', 'to', 'a', 'my', 'is', 'place', 'find', 'shape', 'on', 'kiss', 'were', 'night', 'heart', 'for', 'discovering', 'something', 'be', 'bedsheets', 'fill', 'hours', 'stop', 'bar'])\n",
            "['a', 'about', 'all', 'although', 'and', 'are', 'at', 'baby', 'backseat', 'bag', 'bar', 'be', 'bedsheets', 'begin', 'best', 'body', 'boy', 'brand', 'can', 'chance', 'club', 'come', 'conversation', 'crazy', 'dance', 'date', 'day', 'discovering', 'do', 'doing', \"don't\", 'drinking', 'driver', 'eat', 'every', 'falling', 'family', 'fast', 'fill', 'find', 'first', 'follow', 'for', 'friends', 'get', 'girl', 'give', 'go', 'going', 'grab', 'hand', 'handmade', 'heart', 'hours', 'how', 'i', \"i'll\", \"i'm\", 'in', 'is', \"isn't\", 'it', 'jukebox', 'just', 'kiss', 'know', 'last', 'lead', 'leave', 'let', \"let's\", 'like', 'love', 'lover', 'magnet', 'make', 'man', 'may', 'me', 'mind', 'much', 'my', 'new', 'night', 'not', 'now', 'of', 'okay', 'on', 'one', 'our', 'out', 'over', 'place', 'plate', 'play', 'pull', 'push', 'put', 'radio', 'room', 'say', 'shape', 'shots', 'singing', 'slow', 'smell', 'so', 'somebody', 'something', 'sour', 'start', 'stop', 'story', 'sweet', 'table', 'take', 'talk', 'taxi', 'tell', 'that', 'the', 'then', 'thrifty', 'to', 'too', 'trust', 'up', 'van', 'waist', 'want', 'was', 'we', \"we're\", 'week', 'were', 'where', 'with', 'you', 'your']\n",
            "{'a': 8, 'about': 1, 'all': 1, 'although': 3, 'and': 23, 'are': 1, 'at': 1, 'baby': 14, 'backseat': 1, 'bag': 1, 'bar': 1, 'be': 16, 'bedsheets': 3, 'begin': 1, 'best': 1, 'body': 17, 'boy': 2, 'brand': 6, 'can': 1, 'chance': 1, 'club': 1, 'come': 37, 'conversation': 1, 'crazy': 2, 'dance': 1, 'date': 1, 'day': 6, 'discovering': 6, 'do': 3, 'doing': 2, \"don't\": 2, 'drinking': 1, 'driver': 1, 'eat': 1, 'every': 6, 'falling': 3, 'family': 1, 'fast': 1, 'fill': 2, 'find': 1, 'first': 1, 'follow': 6, 'for': 3, 'friends': 1, 'get': 1, 'girl': 2, 'give': 1, 'go': 2, 'going': 1, 'grab': 2, 'hand': 1, 'handmade': 2, 'heart': 3, 'hours': 2, 'how': 1, 'i': 6, \"i'll\": 1, \"i'm\": 23, 'in': 27, 'is': 5, \"isn't\": 1, 'it': 1, 'jukebox': 1, 'just': 1, 'kiss': 1, 'know': 2, 'last': 3, 'lead': 6, 'leave': 1, 'let': 1, \"let's\": 2, 'like': 10, 'love': 25, 'lover': 1, 'magnet': 3, 'make': 1, 'man': 1, 'may': 2, 'me': 10, 'mind': 2, 'much': 2, 'my': 33, 'new': 6, 'night': 3, 'not': 2, 'now': 11, 'of': 6, 'okay': 1, 'on': 40, 'one': 1, 'our': 1, 'out': 1, 'over': 1, 'place': 1, 'plate': 1, 'play': 1, 'pull': 3, 'push': 3, 'put': 3, 'radio': 1, 'room': 3, 'say': 2, 'shape': 6, 'shots': 1, 'singing': 2, 'slow': 1, 'smell': 3, 'so': 2, 'somebody': 2, 'something': 6, 'sour': 1, 'start': 2, 'stop': 1, 'story': 1, 'sweet': 1, 'table': 1, 'take': 1, 'talk': 4, 'taxi': 1, 'tell': 1, 'that': 2, 'the': 18, 'then': 3, 'thrifty': 1, 'to': 2, 'too': 5, 'trust': 1, 'up': 3, 'van': 1, 'waist': 2, 'want': 2, 'was': 2, 'we': 7, \"we're\": 1, 'week': 1, 'were': 3, 'where': 1, 'with': 22, 'you': 16, 'your': 21}\n"
          ]
        }
      ],
      "source": [
        "#Primero extrae las claves de word_freq y conviértelas en una lista llamada keys.\n",
        "keys=word_freq.keys()\n",
        "\n",
        "print(keys)\n",
        "\n",
        "#Ordena la lista keys.\n",
        "sorted_keys=sorted(keys)\n",
        "\n",
        "print(sorted_keys)\n",
        "\n",
        "#Crea un diccionario vacío word_freq2.\n",
        "word_freq2={}\n",
        "\n",
        "#Usa un bucle FOR para iterar cada valor en keys. Para cada clave iterada, encuentra el valor correspondiente en word_freq e inserta el par clave-valor en word_freq2.\n",
        "for key in sorted_keys:\n",
        "    word_freq2[key]=word_freq[key]\n",
        "\n",
        "print(word_freq2)\n"
      ]
    },
    {
      "cell_type": "markdown",
      "metadata": {
        "id": "5Y5H-TMRX2g4"
      },
      "source": [
        "#### Ordena los valores de `word_freq` de forma ascendente.\n",
        "\n",
        "Ordenar los valores de un diccionario es más complicado que ordenar las claves porque los valores de un diccionario no son únicos. Por lo tanto, no puedes usar la misma forma en que ordenaste las claves del diccionario para ordenar los valores del diccionario.\n",
        "\n",
        "La forma de ordenar un diccionario por valor es utilizar las funciones `sorted` y `operator.itemgetter`. El siguiente fragmento de código se te proporciona para que lo pruebes. Te dará una lista de tuplas en la que cada tupla contiene la clave y el valor de un elemento del diccionario. Y la lista está ordenada basada en el valor del diccionario ( [referencia](http://thomas-cokelaer.info/blog/2017/12/how-to-sort-a-dictionary-by-values-in-python/)\n",
        ").\n",
        "\n",
        "```python\n",
        "import operator\n",
        "sorted_tups = sorted(word_freq.items(), key=operator.itemgetter(1))\n",
        "print(sorted_tups)\n",
        "```\n",
        "\n",
        "Por lo tanto, los pasos para ordenar `word_freq` por valor son:\n",
        "\n",
        "* Utilizando `sorted` y `operator.itemgetter`, obtén una lista de tuplas de los pares clave-valor del diccionario que está ordenada por el valor.\n",
        "\n",
        "* Crea un diccionario vacío llamado `word_freq2`.\n",
        "\n",
        "* Itera la lista de tuplas. Inserta cada par clave-valor en `word_freq2` como un objeto.\n",
        "\n",
        "Imprime `word_freq2` para confirmar que tu diccionario tiene sus valores ordenados. Tu salida debería ser:\n",
        "\n",
        "```python\n",
        "{'conversation': 1, \"we're\": 1, 'plate': 1, 'sour': 1, 'jukebox': 1, 'taxi': 1, 'fast': 1, 'bag': 1, 'man': 1, 'going': 1, 'one': 1, 'backseat': 1, 'friends': 1, 'take': 1, 'play': 1, 'okay': 1, 'begin': 1, 'over': 1, 'just': 1, 'are': 1, 'tell': 1, 'drinking': 1, 'our': 1, 'where': 1, \"i'll\": 1, 'all': 1, \"isn't\": 1, 'make': 1, 'lover': 1, 'get': 1, 'radio': 1, 'give': 1, 'can': 1, 'club': 1, 'it': 1, 'out': 1, 'chance': 1, 'first': 1, 'table': 1, 'thrifty': 1, 'driver': 1, 'slow': 1, 'dance': 1, 'trust': 1, 'family': 1, 'week': 1, 'date': 1, 'leave': 1, 'at': 1, 'hand': 1, 'how': 1, 'eat': 1, 'about': 1, 'story': 1, 'sweet': 1, 'best': 1, 'let': 1, 'van': 1, 'shots': 1, 'place': 1, 'find': 1, 'kiss': 1, 'stop': 1, 'bar': 1, \"don't\": 2, 'mind': 2, 'know': 2, 'so': 2, 'start': 2, 'boy': 2, 'girl': 2, 'singing': 2, 'doing': 2, 'somebody': 2, 'handmade': 2, 'may': 2, 'that': 2, 'much': 2, 'grab': 2, 'was': 2, 'say': 2, 'waist': 2, 'want': 2, \"let's\": 2, 'not': 2, 'crazy': 2, 'go': 2, 'to': 2, 'fill': 2, 'hours': 2, 'push': 3, 'then': 3, 'put': 3, 'room': 3, 'magnet': 3, 'up': 3, 'pull': 3, 'last': 3, 'do': 3, 'smell': 3, 'although': 3, 'falling': 3, 'were': 3, 'night': 3, 'heart': 3, 'for': 3, 'bedsheets': 3, 'talk': 4, 'too': 5, 'is': 5, 'every': 6, 'new': 6, 'follow': 6, 'brand': 6, 'of': 6, 'i': 6, 'day': 6, 'lead': 6, 'shape': 6, 'discovering': 6, 'something': 6, 'we': 7, 'a': 8, 'like': 10, 'me': 10, 'now': 11, 'baby': 14, 'you': 16, 'be': 16, 'body': 17, 'the': 18, 'your': 21, 'with': 22, \"i'm\": 23, 'and': 23, 'love': 25, 'in': 27, 'my': 33, 'come': 37, 'on': 40}\n",
        "```"
      ]
    },
    {
      "cell_type": "code",
      "execution_count": 94,
      "metadata": {
        "id": "TpmyoA2bX2g4",
        "colab": {
          "base_uri": "https://localhost:8080/"
        },
        "outputId": "64974b4c-681c-420e-a809-790b624a5e72"
      },
      "outputs": [
        {
          "output_type": "stream",
          "name": "stdout",
          "text": [
            "[('conversation', 1), (\"we're\", 1), ('plate', 1), ('sour', 1), ('jukebox', 1), ('taxi', 1), ('fast', 1), ('bag', 1), ('man', 1), ('going', 1), ('one', 1), ('backseat', 1), ('friends', 1), ('take', 1), ('play', 1), ('okay', 1), ('begin', 1), ('over', 1), ('just', 1), ('are', 1), ('tell', 1), ('drinking', 1), ('our', 1), ('where', 1), (\"i'll\", 1), ('all', 1), (\"isn't\", 1), ('make', 1), ('lover', 1), ('get', 1), ('radio', 1), ('give', 1), ('can', 1), ('club', 1), ('it', 1), ('out', 1), ('chance', 1), ('first', 1), ('table', 1), ('thrifty', 1), ('driver', 1), ('slow', 1), ('dance', 1), ('trust', 1), ('family', 1), ('week', 1), ('date', 1), ('leave', 1), ('at', 1), ('hand', 1), ('how', 1), ('eat', 1), ('about', 1), ('story', 1), ('sweet', 1), ('best', 1), ('let', 1), ('van', 1), ('shots', 1), ('place', 1), ('find', 1), ('kiss', 1), ('stop', 1), ('bar', 1), (\"don't\", 2), ('mind', 2), ('know', 2), ('so', 2), ('start', 2), ('boy', 2), ('girl', 2), ('singing', 2), ('doing', 2), ('somebody', 2), ('handmade', 2), ('may', 2), ('that', 2), ('much', 2), ('grab', 2), ('was', 2), ('say', 2), ('waist', 2), ('want', 2), (\"let's\", 2), ('not', 2), ('crazy', 2), ('go', 2), ('to', 2), ('fill', 2), ('hours', 2), ('push', 3), ('then', 3), ('put', 3), ('room', 3), ('magnet', 3), ('up', 3), ('pull', 3), ('last', 3), ('do', 3), ('smell', 3), ('although', 3), ('falling', 3), ('were', 3), ('night', 3), ('heart', 3), ('for', 3), ('bedsheets', 3), ('talk', 4), ('too', 5), ('is', 5), ('every', 6), ('new', 6), ('follow', 6), ('brand', 6), ('of', 6), ('i', 6), ('day', 6), ('lead', 6), ('shape', 6), ('discovering', 6), ('something', 6), ('we', 7), ('a', 8), ('like', 10), ('me', 10), ('now', 11), ('baby', 14), ('you', 16), ('be', 16), ('body', 17), ('the', 18), ('your', 21), ('with', 22), (\"i'm\", 23), ('and', 23), ('love', 25), ('in', 27), ('my', 33), ('come', 37), ('on', 40)]\n",
            "{'conversation': 1, \"we're\": 1, 'plate': 1, 'sour': 1, 'jukebox': 1, 'taxi': 1, 'fast': 1, 'bag': 1, 'man': 1, 'going': 1, 'one': 1, 'backseat': 1, 'friends': 1, 'take': 1, 'play': 1, 'okay': 1, 'begin': 1, 'over': 1, 'just': 1, 'are': 1, 'tell': 1, 'drinking': 1, 'our': 1, 'where': 1, \"i'll\": 1, 'all': 1, \"isn't\": 1, 'make': 1, 'lover': 1, 'get': 1, 'radio': 1, 'give': 1, 'can': 1, 'club': 1, 'it': 1, 'out': 1, 'chance': 1, 'first': 1, 'table': 1, 'thrifty': 1, 'driver': 1, 'slow': 1, 'dance': 1, 'trust': 1, 'family': 1, 'week': 1, 'date': 1, 'leave': 1, 'at': 1, 'hand': 1, 'how': 1, 'eat': 1, 'about': 1, 'story': 1, 'sweet': 1, 'best': 1, 'let': 1, 'van': 1, 'shots': 1, 'place': 1, 'find': 1, 'kiss': 1, 'stop': 1, 'bar': 1, \"don't\": 2, 'mind': 2, 'know': 2, 'so': 2, 'start': 2, 'boy': 2, 'girl': 2, 'singing': 2, 'doing': 2, 'somebody': 2, 'handmade': 2, 'may': 2, 'that': 2, 'much': 2, 'grab': 2, 'was': 2, 'say': 2, 'waist': 2, 'want': 2, \"let's\": 2, 'not': 2, 'crazy': 2, 'go': 2, 'to': 2, 'fill': 2, 'hours': 2, 'push': 3, 'then': 3, 'put': 3, 'room': 3, 'magnet': 3, 'up': 3, 'pull': 3, 'last': 3, 'do': 3, 'smell': 3, 'although': 3, 'falling': 3, 'were': 3, 'night': 3, 'heart': 3, 'for': 3, 'bedsheets': 3, 'talk': 4, 'too': 5, 'is': 5, 'every': 6, 'new': 6, 'follow': 6, 'brand': 6, 'of': 6, 'i': 6, 'day': 6, 'lead': 6, 'shape': 6, 'discovering': 6, 'something': 6, 'we': 7, 'a': 8, 'like': 10, 'me': 10, 'now': 11, 'baby': 14, 'you': 16, 'be': 16, 'body': 17, 'the': 18, 'your': 21, 'with': 22, \"i'm\": 23, 'and': 23, 'love': 25, 'in': 27, 'my': 33, 'come': 37, 'on': 40}\n"
          ]
        }
      ],
      "source": [
        "#Utilizando sorted y operator.itemgetter, obtén una lista de tuplas de los pares clave-valor del diccionario que está ordenada por el valor.\n",
        "\n",
        "import operator\n",
        "sorted_tups = sorted(word_freq.items(), key=operator.itemgetter(1))\n",
        "print(sorted_tups)\n",
        "\n",
        "#Crea un diccionario vacío word_freq2.\n",
        "word_freq2={}\n",
        "\n",
        "#Itera la lista de tuplas. Inserta cada par clave-valor en word_freq2 como un objeto.\n",
        "for key, value in sorted_tups:\n",
        "    word_freq2[key] = value\n",
        "\n",
        "print(word_freq2)\n",
        "\n"
      ]
    }
  ],
  "metadata": {
    "kernelspec": {
      "display_name": "Python 3 (ipykernel)",
      "language": "python",
      "name": "python3"
    },
    "language_info": {
      "codemirror_mode": {
        "name": "ipython",
        "version": 3
      },
      "file_extension": ".py",
      "mimetype": "text/x-python",
      "name": "python",
      "nbconvert_exporter": "python",
      "pygments_lexer": "ipython3",
      "version": "3.9.13"
    },
    "vscode": {
      "interpreter": {
        "hash": "aee8b7b246df8f9039afb4144a1f6fd8d2ca17a180786b69acc140d282b71a49"
      }
    },
    "colab": {
      "provenance": []
    }
  },
  "nbformat": 4,
  "nbformat_minor": 0
}